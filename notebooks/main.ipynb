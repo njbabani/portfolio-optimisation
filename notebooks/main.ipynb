{
 "cells": [
  {
   "cell_type": "markdown",
   "metadata": {},
   "source": [
    "<div style=\"display: flex; justify-content: center; align-items: center; gap: 20px;\">\n",
    "    <img src=\"../images/oxford-logo-transparent.png\" width=\"8%\">\n",
    "    <img src=\"../images/harvard-logo-transparent.png\" width=\"9%\">\n",
    "</div>\n",
    "\n",
    "# [Oxford x Harvard Portfolio Optimisation]()\n",
    "\n",
    "<hr width=100% style=\"float: left\">"
   ]
  },
  {
   "cell_type": "markdown",
   "metadata": {},
   "source": [
    "## Description\n",
    "- This notebook provides a basis to experiment different portfolio theories and ideas before proper implementation"
   ]
  },
  {
   "cell_type": "markdown",
   "metadata": {},
   "source": [
    "## Libaries\n",
    "- Run the subsequent block to import necessary libaries"
   ]
  },
  {
   "cell_type": "code",
   "execution_count": 12,
   "metadata": {},
   "outputs": [],
   "source": [
    "import yfinance as yf"
   ]
  },
  {
   "cell_type": "markdown",
   "metadata": {},
   "source": [
    "## Stock Price Data\n",
    "- Construct the portfolio using assests like stocks available from Yahoo! Finance"
   ]
  },
  {
   "cell_type": "code",
   "execution_count": 13,
   "metadata": {},
   "outputs": [
    {
     "name": "stderr",
     "output_type": "stream",
     "text": [
      "[*********************100%***********************]  5 of 5 completed"
     ]
    },
    {
     "name": "stdout",
     "output_type": "stream",
     "text": [
      "Ticker            AAPL        AMZN       GOOGL        MSFT        NVDA\n",
      "Date                                                                  \n",
      "2024-12-24  257.916443  229.050003  196.110001  438.450836  140.220001\n",
      "2024-12-26  258.735504  227.050003  195.600006  437.233276  139.929993\n",
      "2024-12-27  255.309296  223.750000  192.759995  429.668457  137.009995\n",
      "2024-12-30  251.923019  221.300003  191.240005  423.979858  137.490005\n",
      "2024-12-31  250.144974  219.389999  189.300003  420.656525  134.289993\n"
     ]
    },
    {
     "name": "stderr",
     "output_type": "stream",
     "text": [
      "\n"
     ]
    }
   ],
   "source": [
    "# Define stock tickers\n",
    "tickers = [\n",
    "    \"AAPL\",     # Apple\n",
    "    \"MSFT\",     # Microsoft\n",
    "    \"GOOGL\",    # Google\n",
    "    \"AMZN\",     # Amazon\n",
    "    \"NVDA\",     # Nvidia\n",
    "]\n",
    "\n",
    "# Define the start and end dates (YYYY-MM-DD)\n",
    "start_date = \"2018-01-01\"\n",
    "end_date = \"2025-01-01\"\n",
    "\n",
    "# Import the stock data\n",
    "stock_data = yf.download(tickers=tickers, start=start_date, end=end_date, auto_adjust=False)\n",
    "\n",
    "# Obtain the Adjusted Close prices\n",
    "stock_data = stock_data[\"Adj Close\"]\n",
    "\n",
    "# Visualise the dataset\n",
    "print(stock_data.tail())"
   ]
  }
 ],
 "metadata": {
  "kernelspec": {
   "display_name": "port-opt",
   "language": "python",
   "name": "python3"
  },
  "language_info": {
   "codemirror_mode": {
    "name": "ipython",
    "version": 3
   },
   "file_extension": ".py",
   "mimetype": "text/x-python",
   "name": "python",
   "nbconvert_exporter": "python",
   "pygments_lexer": "ipython3",
   "version": "3.11.11"
  }
 },
 "nbformat": 4,
 "nbformat_minor": 2
}
